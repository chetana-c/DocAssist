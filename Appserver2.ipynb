{
 "cells": [
  {
   "cell_type": "code",
   "execution_count": null,
   "metadata": {
    "scrolled": true
   },
   "outputs": [
    {
     "name": "stderr",
     "output_type": "stream",
     "text": [
      "b'Skipping line 1301579: expected 7 fields, saw 8\\n'\n",
      "b'Skipping line 1406985: expected 7 fields, saw 8\\n'\n"
     ]
    },
    {
     "name": "stdout",
     "output_type": "stream",
     "text": [
      " * Serving Flask app '__main__' (lazy loading)\n",
      " * Environment: production\n",
      "\u001b[31m   WARNING: This is a development server. Do not use it in a production deployment.\u001b[0m\n",
      "\u001b[2m   Use a production WSGI server instead.\u001b[0m\n",
      " * Debug mode: off\n"
     ]
    },
    {
     "name": "stderr",
     "output_type": "stream",
     "text": [
      " * Running on all addresses.\n",
      "   WARNING: This is a development server. Do not use it in a production deployment.\n",
      " * Running on http://10.73.43.99:105/ (Press CTRL+C to quit)\n",
      "C:\\Users\\srai20\\AppData\\Local\\Continuum\\Anaconda3\\lib\\site-packages\\numpy\\lib\\arraysetops.py:395: FutureWarning: comparison to `None` will result in an elementwise object comparison in the future.\n",
      "  mask |= (ar1 == a)\n"
     ]
    },
    {
     "name": "stdout",
     "output_type": "stream",
     "text": [
      "  code_disease                                   disease_desc  \\\n",
      "0        g5603  Carpal tunnel syndrome, bilateral upper limbs   \n",
      "1         g629                    Polyneuropathy, unspecified   \n",
      "2        m5416                   Radiculopathy, lumbar region   \n",
      "3        i4891                Unspecified atrial fibrillation   \n",
      "4        m5412                 Radiculopathy, cervical region   \n",
      "5         g608   Other hereditary and idiopathic neuropathies   \n",
      "6         i480                 Paroxysmal atrial fibrillation   \n",
      "7         i110  Hypertensive heart disease with heart failure   \n",
      "8        g5601       Carpal tunnel syndrome, right upper limb   \n",
      "9        g6289               Other specified polyneuropathies   \n",
      "\n",
      "   disease_sym_occur_count  sym_occur_count    prob_x    prob_y     score  \n",
      "0                      114            81080  0.120324  0.020000  0.120324  \n",
      "1                      694            81080  0.094076  0.020000  0.094076  \n",
      "2                      194            81080  0.076300  0.020000  0.076300  \n",
      "3                    11271            81080  0.141650  0.041872  0.067659  \n",
      "4                      120            81080  0.059216  0.020000  0.059216  \n",
      "5                       52            81080  0.056059  0.020000  0.056059  \n",
      "6                     5922            81080  0.074974  0.027081  0.055370  \n",
      "7                     4721            81080  0.061157  0.022414  0.054572  \n",
      "8                       61            81080  0.053863  0.020000  0.053863  \n",
      "9                       58            81080  0.052671  0.020000  0.052671  \n",
      "['g5603', 'g629', 'm5416', 'i4891', 'm5412', 'g608', 'i480', 'i110', 'g5601', 'g6289']\n"
     ]
    },
    {
     "name": "stderr",
     "output_type": "stream",
     "text": [
      "10.73.43.99 - - [06/Aug/2021 19:29:23] \"POST /GetDiseaseFromSym HTTP/1.1\" 200 -\n"
     ]
    },
    {
     "name": "stdout",
     "output_type": "stream",
     "text": [
      "  code_disease                                       disease_desc  \\\n",
      "0         j301                    Allergic rhinitis due to pollen   \n",
      "1         j309                     Allergic rhinitis, unspecified   \n",
      "2        j3089                            Other allergic rhinitis   \n",
      "3         j069     Acute upper respiratory infection, unspecified   \n",
      "4         j029                     Acute pharyngitis, unspecified   \n",
      "5         j302                   Other seasonal allergic rhinitis   \n",
      "6         e789    Disorder of lipoprotein metabolism, unspecified   \n",
      "7        j3489  Other specified disorders of nose and nasal si...   \n",
      "8      t7840xa            Allergy, unspecified, initial encounter   \n",
      "9         j209                      Acute bronchitis, unspecified   \n",
      "\n",
      "   disease_sym_occur_count  sym_occur_count    prob_x    prob_y     score  \n",
      "0                    27092          1251501  0.281905  0.020000  0.281905  \n",
      "1                    59559          1251501  0.175752  0.020357  0.172666  \n",
      "2                    13119          1251501  0.167799  0.020000  0.167799  \n",
      "3                    90950          1251501  0.120802  0.020000  0.120802  \n",
      "4                    66955          1251501  0.095146  0.020000  0.095146  \n",
      "5                    16366          1251501  0.079242  0.020000  0.079242  \n",
      "6                     1024          1251501  0.064618  0.020000  0.064618  \n",
      "7                    11481          1251501  0.064481  0.020000  0.064481  \n",
      "8                     2889          1251501  0.062028  0.020000  0.062028  \n",
      "9                    54659          1251501  0.058265  0.020000  0.058265  \n",
      "['j301', 'j309', 'j3089', 'j069', 'j029', 'j302', 'e789', 'j3489', 't7840xa', 'j209']\n"
     ]
    },
    {
     "name": "stderr",
     "output_type": "stream",
     "text": [
      "10.73.43.99 - - [06/Aug/2021 19:29:53] \"POST /GetDiseaseFromSym HTTP/1.1\" 200 -\n"
     ]
    },
    {
     "name": "stdout",
     "output_type": "stream",
     "text": [
      "  code_disease                                       disease_desc  \\\n",
      "0         j069     Acute upper respiratory infection, unspecified   \n",
      "1         j029                     Acute pharyngitis, unspecified   \n",
      "2         j309                     Allergic rhinitis, unspecified   \n",
      "3         j209                      Acute bronchitis, unspecified   \n",
      "4        j0190                       Acute sinusitis, unspecified   \n",
      "5          r51                                           Headache   \n",
      "6         j020                          Streptococcal pharyngitis   \n",
      "7        j1100  Influenza due to unidentified influenza virus ...   \n",
      "8       j45909                  Unspecified asthma, uncomplicated   \n",
      "9         u071                Coronavirus disease-2019 (COVID-19)   \n",
      "\n",
      "   disease_sym_occur_count  sym_occur_count    prob_x    prob_y     score  \n",
      "0                    95415          1303009  0.155676  0.020000  0.155676  \n",
      "1                    72152          1303009  0.148633  0.020000  0.148633  \n",
      "2                    61089          1303009  0.086624  0.020357  0.085103  \n",
      "3                    56168          1303009  0.071647  0.020000  0.071647  \n",
      "4                    33558          1303009  0.057159  0.020000  0.057159  \n",
      "5                    27220          1303009  0.061745  0.025036  0.049325  \n",
      "6                     7144          1303009  0.047569  0.020000  0.047569  \n",
      "7                    26722          1303009  0.043936  0.020000  0.043936  \n",
      "8                    39669          1303009  0.043034  0.021789  0.039500  \n",
      "9                    39438          1303009  0.041946  0.021773  0.038530  \n",
      "['j069', 'j029', 'j309', 'j209', 'j0190', 'r51', 'j020', 'j1100', 'j45909', 'u071']\n"
     ]
    },
    {
     "name": "stderr",
     "output_type": "stream",
     "text": [
      "10.73.43.99 - - [06/Aug/2021 19:30:14] \"POST /GetDiseaseFromSym HTTP/1.1\" 200 -\n"
     ]
    }
   ],
   "source": [
    "from flask import Flask, request, jsonify, json\n",
    "app = Flask(__name__)\n",
    "import pandas as pd\n",
    "disease_from_sym = pd.read_csv(r\"C:\\Users\\srai20\\Documents\\Python Scripts\\sym_dis_prob_mat_final.csv\",error_bad_lines=False)\n",
    "sym_from_disease = pd.read_csv(r\"C:\\Users\\srai20\\Documents\\Python Scripts\\sym_dis_prob_mat_v2.csv\",error_bad_lines=False)\n",
    "\n",
    "\n",
    "@app.route('/GetDiseaseFromSym', methods=['POST'])\n",
    "def start():\n",
    "\n",
    "    data = request.json\n",
    "    syms = data.values()\n",
    "    remove_list = []\n",
    "    res = disease_from_sym[(disease_from_sym.code_sym.isin(syms)) & (~disease_from_sym.code_disease.isin(remove_list))].groupby(['code_disease','disease_desc'], as_index= False).sum().sort_values('score', ascending = False).reset_index(drop = True).head(10)\n",
    "    response = res.to_dict(orient=\"list\")\n",
    "    print(res)\n",
    "    res.to_csv(r\"C:\\Users\\srai20\\Documents\\Python Scripts\\GetDiseaseFromSym.csv\", index = False)\n",
    "    pred_dis = res.code_disease.tolist()\n",
    "    print(pred_dis)\n",
    "    list_of_dfs = []\n",
    "    for disease in pred_dis:\n",
    "        df = sym_from_disease[(sym_from_disease.code_disease==disease)].groupby(['code_sym','symptom_desc'], as_index= False).sum().sort_values('prob', ascending = False).reset_index(drop = True).head(15)\n",
    "        df['code_disease'] = disease\n",
    "        list_of_dfs.append(df)\n",
    "    top_syms_for_diseases = pd.concat(list_of_dfs)\n",
    "    top_syms_for_diseases.to_csv(r\"C:\\Users\\srai20\\Documents\\Python Scripts\\GetSymFromDisease.csv\", index = False)\n",
    "\n",
    "    return jsonify(response)\n",
    "\n",
    "@app.route('/GetSymFromDisease', methods=['POST'])\n",
    "def start2():\n",
    "\n",
    "    data = request.json\n",
    "    disease = list(data.values())[0]\n",
    "    print (disease)\n",
    "    \n",
    "    remove_list = []\n",
    "    res = sym_from_disease[(sym_from_disease.code_disease==disease)].groupby(['code_sym','symptom_desc'], as_index= False).sum().sort_values('prob', ascending = False).reset_index(drop = True).head(5)\n",
    "    response = res.to_dict(orient=\"list\")\n",
    "    print(res)\n",
    "    res.to_csv(r\"C:\\Users\\srai20\\Documents\\Python Scripts\\GetSymFromDisease.csv\", index = False)\n",
    "    return jsonify(response)\n",
    "if __name__ == '__main__':\n",
    "    app.run(host='0.0.0.0', port=105)\n"
   ]
  },
  {
   "cell_type": "code",
   "execution_count": null,
   "metadata": {
    "collapsed": true
   },
   "outputs": [],
   "source": [
    "\n",
    "disease_from_sym = pd.read_csv(r\"C:\\Users\\srai20\\Documents\\Python Scripts\\API\\sym_dis_prob_mat_final.csv\")\n",
    "syms= ['r05','r531','r509']\n",
    "remove_list=[]\n",
    "res=disease_from_sym[(disease_from_sym.code_sym.isin(syms)) & (~disease_from_sym.code_disease.isin(remove_list))].groupby(['code_disease','disease_desc'], as_index= False).sum().sort_values('score', ascending = False).reset_index(drop = True).head(5)"
   ]
  },
  {
   "cell_type": "code",
   "execution_count": null,
   "metadata": {},
   "outputs": [],
   "source": [
    "res.head()"
   ]
  },
  {
   "cell_type": "code",
   "execution_count": null,
   "metadata": {
    "collapsed": true
   },
   "outputs": [],
   "source": [
    "response = res.code_disease.to_dict()"
   ]
  },
  {
   "cell_type": "code",
   "execution_count": null,
   "metadata": {},
   "outputs": [],
   "source": [
    "sym_from_disease = pd.read_csv(r\"C:\\Users\\srai20\\Documents\\Python Scripts\\API\\sym_dis_prob_mat_v2.csv\")"
   ]
  },
  {
   "cell_type": "code",
   "execution_count": null,
   "metadata": {
    "collapsed": true
   },
   "outputs": [],
   "source": [
    "sym_from_disease.head(10)"
   ]
  },
  {
   "cell_type": "code",
   "execution_count": null,
   "metadata": {
    "collapsed": true
   },
   "outputs": [],
   "source": [
    "disease_from_sym = pd.read_csv(r\"C:\\Users\\srai20\\Documents\\Python Scripts\\API\\sym_dis_prob_mat_final.csv\")\n",
    "sym_from_disease = pd.read_csv(r\"C:\\Users\\srai20\\Documents\\Python Scripts\\API\\sym_dis_prob_mat_v2.csv\")"
   ]
  },
  {
   "cell_type": "code",
   "execution_count": null,
   "metadata": {},
   "outputs": [],
   "source": [
    "!pip install flask --upgrade"
   ]
  },
  {
   "cell_type": "code",
   "execution_count": null,
   "metadata": {
    "collapsed": true
   },
   "outputs": [],
   "source": []
  }
 ],
 "metadata": {
  "kernelspec": {
   "display_name": "Python 3",
   "language": "python",
   "name": "python3"
  },
  "language_info": {
   "codemirror_mode": {
    "name": "ipython",
    "version": 3
   },
   "file_extension": ".py",
   "mimetype": "text/x-python",
   "name": "python",
   "nbconvert_exporter": "python",
   "pygments_lexer": "ipython3",
   "version": "3.6.1"
  }
 },
 "nbformat": 4,
 "nbformat_minor": 2
}
